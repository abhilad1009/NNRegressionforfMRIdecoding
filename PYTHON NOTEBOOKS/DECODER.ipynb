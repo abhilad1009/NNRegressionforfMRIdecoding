{
  "nbformat": 4,
  "nbformat_minor": 0,
  "metadata": {
    "colab": {
      "name": "DECODER.ipynb",
      "provenance": [],
      "collapsed_sections": []
    },
    "kernelspec": {
      "name": "python3",
      "display_name": "Python 3"
    },
    "accelerator": "GPU"
  },
  "cells": [
    {
      "cell_type": "markdown",
      "metadata": {
        "id": "mjx6klXHdrdJ",
        "colab_type": "text"
      },
      "source": [
        "## Load necessary libraries\n",
        "\n",
        "Instructions for installing the necessary libraries are provided in [Readme.md]() file provided on the project page.\n",
        "\n",
        "List of libraries which may need to be installed explicitly.\n",
        "\n",
        "\n",
        "*  tensorflow\n",
        "*  sklearn\n",
        "*  scipy\n",
        "*  pandas\n",
        "*  numpy\n",
        "*  matplotlib\n",
        "\n"
      ]
    },
    {
      "cell_type": "code",
      "metadata": {
        "id": "IqyblAexfN5d",
        "colab_type": "code",
        "colab": {
          "base_uri": "https://localhost:8080/",
          "height": 222
        },
        "outputId": "32e055e5-b297-4ce1-9154-388eba58c81e"
      },
      "source": [
        "from google.colab import drive\n",
        "drive.mount('/gdrive')\n",
        "import pathlib\n",
        "\n",
        "import os\n",
        "\n",
        "print(os.getcwd())\n",
        "%cd ..\n",
        "%cd gdrive\n",
        "%cd My Drive\n",
        "%cd MAJOR PROJECT\n",
        "#data_root = pathlib.Path(\"/gdrive/My Drive/MAJOR PROJECT\")\n",
        "\n",
        "#%cd ./gdrive/My Drive/MAJOR PROJECT\n",
        "print(os.getcwd())"
      ],
      "execution_count": 1,
      "outputs": [
        {
          "output_type": "stream",
          "text": [
            "Go to this URL in a browser: https://accounts.google.com/o/oauth2/auth?client_id=947318989803-6bn6qk8qdgf4n4g3pfee6491hc0brc4i.apps.googleusercontent.com&redirect_uri=urn%3aietf%3awg%3aoauth%3a2.0%3aoob&scope=email%20https%3a%2f%2fwww.googleapis.com%2fauth%2fdocs.test%20https%3a%2f%2fwww.googleapis.com%2fauth%2fdrive%20https%3a%2f%2fwww.googleapis.com%2fauth%2fdrive.photos.readonly%20https%3a%2f%2fwww.googleapis.com%2fauth%2fpeopleapi.readonly&response_type=code\n",
            "\n",
            "Enter your authorization code:\n",
            "··········\n",
            "Mounted at /gdrive\n",
            "/content\n",
            "/\n",
            "/gdrive\n",
            "/gdrive/My Drive\n",
            "/gdrive/My Drive/MAJOR PROJECT\n",
            "/gdrive/My Drive/MAJOR PROJECT\n"
          ],
          "name": "stdout"
        }
      ]
    },
    {
      "cell_type": "code",
      "metadata": {
        "id": "9K1fxw8UtCOc",
        "colab_type": "code",
        "colab": {}
      },
      "source": [
        "from __future__ import absolute_import, division, print_function, unicode_literals\n",
        "\n",
        "try:\n",
        "  # %tensorflow_version only exists in Colab.\n",
        "  %tensorflow_version 2.x\n",
        "except Exception:\n",
        "  pass\n",
        "import tensorflow as tf\n",
        "from tensorflow.keras import layers\n",
        "\n",
        "import os\n",
        "import time\n",
        "\n",
        "from matplotlib import pyplot as plt\n",
        "from IPython import display\n",
        "\n",
        "from scipy.io import loadmat\n",
        "\n",
        "import numpy as np\n",
        "\n",
        "import pandas as pd\n",
        "\n",
        "import sklearn.preprocessing\n"
      ],
      "execution_count": 2,
      "outputs": []
    },
    {
      "cell_type": "markdown",
      "metadata": {
        "id": "7Ehcgdt9d3JH",
        "colab_type": "text"
      },
      "source": [
        "##Function for loading mri data\n",
        "\n",
        "The code for handling fMRI data is used as provided in [repository](https://github.com/WeizmannVision/ssfmri2im) for the [paper](https://arxiv.org/abs/1907.02431) (From voxels to pixels and back: Self-supervision in natural-image reconstruction from fMRI).\n",
        "\n",
        "The fMRI data is normalized by default using standard scaling method."
      ]
    },
    {
      "cell_type": "code",
      "metadata": {
        "id": "ui2nNbXSF7sr",
        "colab_type": "code",
        "colab": {}
      },
      "source": [
        "class kamitani_data_handler():\n",
        "    \"\"\"Generate batches for FMRI prediction\n",
        "    frames_back - how many video frames to take before FMRI frame\n",
        "    frames_forward - how many video frames to take after FMRI frame\n",
        "    \"\"\"\n",
        "\n",
        "    def __init__(self, matlab_file ,test_img_csv = os.getcwd()+'/imageURL_test.csv',train_img_csv = os.getcwd()+'/imageURL_training.csv',voxel_spacing =3,log = 0 ):\n",
        "        mat = loadmat(matlab_file)\n",
        "        self.data = mat['dataSet'][:,3:]\n",
        "        self.sample_meta = mat['dataSet'][:,:3]\n",
        "        meta = mat['metaData']\n",
        "        # print(meta)\n",
        "        # print(len(self.data[0]))\n",
        "        #print(len(self.sample_meta))\n",
        "        self.meta_keys = list(l[0] for l in meta[0][0][0][0])\n",
        "        self.meta_desc = list(l[0] for l in meta[0][0][1][0])\n",
        "        self.voxel_meta = np.nan_to_num(meta[0][0][2][:,3:])\n",
        "        test_img_df = pd.read_csv(test_img_csv, header=None)\n",
        "        train_img_df =pd.read_csv(train_img_csv, header=None)\n",
        "        self.test_img_id = test_img_df[1].values\n",
        "        self.train_img_id = train_img_df[3].values\n",
        "        # print(len(self.train_img_id))\n",
        "        self.sample_type = {'train':1 , 'test':2 , 'test_imagine' : 3}\n",
        "        self.voxel_spacing = voxel_spacing\n",
        "        img_ids = self.get_meta_field('Label')\n",
        "        # print(len(img_ids))\n",
        "        type = self.get_meta_field('DataType')\n",
        "        train = (type == self.sample_type['train'])\n",
        "        test = (type == self.sample_type['test'])\n",
        "        imag = (type == self.sample_type['test_imagine'])\n",
        "\n",
        "        self.img_ids_train = img_ids[train]\n",
        "        self.img_ids_test = img_ids[test]\n",
        "        self.img_ids_imag = img_ids[imag]\n",
        "        self.log = log\n",
        "\n",
        "    def get_meta_field(self,field = 'DataType'):\n",
        "        index = self.meta_keys.index(field)\n",
        "        if(index <3): # 3 first keys are sample meta\n",
        "            return self.sample_meta[:,index]\n",
        "        else:\n",
        "            return self.voxel_meta[index]\n",
        "\n",
        "\n",
        "    def print_meta_desc(self):\n",
        "        print(self.meta_desc)\n",
        "    def get_data(self,normalize =2 ,roi = 'ROI_VC',imag_data = 0,test_run_list = None):   # normalize 0-no, 1- per run , 2- train/test seperatly\n",
        "        type = self.get_meta_field('DataType')\n",
        "\n",
        "        train = (type == self.sample_type['train'])\n",
        "        test = (type == self.sample_type['test'])\n",
        "        test_imag = (type == self.sample_type['test_imagine'])\n",
        "        test_all  = np.logical_or(test,test_imag)\n",
        "        \n",
        "\n",
        "        roi_select = self.get_meta_field(roi).astype(bool)\n",
        "        data = self.data[:,roi_select]\n",
        "\n",
        "        # if(self.log ==1):\n",
        "        #     data = np.log(1+np.abs(data))*np.sign(data)\n",
        "\n",
        "\n",
        "        if(normalize==1):\n",
        "\n",
        "            run = self.get_meta_field('Run').astype('int')-1\n",
        "            num_runs = np.max(run)+1\n",
        "            data_norm = np.zeros(data.shape)\n",
        "\n",
        "            for r in range(num_runs):\n",
        "                data_norm[r==run] = sklearn.preprocessing.scale(data[r==run])\n",
        "            train_data = data_norm[train]\n",
        "            test_data  = data_norm[test]\n",
        "            test_all = data_norm[test_all]\n",
        "            test_imag = data_norm[test_imag]\n",
        "\n",
        "        else:\n",
        "\n",
        "            train_data = data[train]\n",
        "            index = list(range(len(self.img_ids_train)))\n",
        "\n",
        "\n",
        "            index.sort(key=self.img_ids_train.__getitem__)\n",
        "\n",
        "            # list1 = [self.img_ids_train[i] for i in index]\n",
        "            train_data = [train_data[i] for i in index]\n",
        "            # print(len(train_data[0]))\n",
        "            # print(list1)\n",
        "            # print(list2)\n",
        "            # sortedtest = self.img_ids_test[:50]\n",
        "            # index = list(range(len(sortedtest)))\n",
        "            # index.sort(key=sortedtest.__getitem__)\n",
        "            # # list1 = [sortedtest[i] for i in index]\n",
        "            # # print(list1)\n",
        "            # test_data  =  data[test][:50]\n",
        "            # test_data = [test_data[i] for i in index]\n",
        "            sortedtest = self.img_ids_test[:]\n",
        "            index = list(range(len(sortedtest)))\n",
        "            index.sort(key=sortedtest.__getitem__)\n",
        "            list1 = [sortedtest[i] for i in index]\n",
        "            # print(list1)\n",
        "            test_data  =  data[test][:]\n",
        "            test_data = [test_data[i] for i in index]\n",
        "            # print(test_data)\n",
        "            L=[]\n",
        "            for i in range(50):\n",
        "              tp= np.mean(test_data[i*35:(i+1)*35],axis=0)\n",
        "              L.append(tp)\n",
        "            test_data=L\n",
        "            # print(test_data)\n",
        "            if(normalize==2):\n",
        "                train_data = sklearn.preprocessing.scale(train_data)\n",
        "                test_data = sklearn.preprocessing.scale(test_data)\n",
        "                \n",
        "\n",
        "\n",
        "        return train_data, test_data\n"
      ],
      "execution_count": 3,
      "outputs": []
    },
    {
      "cell_type": "markdown",
      "metadata": {
        "id": "KjmWtDH9d-ny",
        "colab_type": "text"
      },
      "source": [
        "##Loading fMRI data\n",
        "\n",
        "List of subjects: [ '/Subject1.mat' , '/Subject2.mat' , '/Subject3.mat' , '/Subject4.mat' , '/Subject5.mat' ]\n",
        "\n",
        "List of ROIs : [ 'ROI_VC' , 'ROI_HVC' , 'ROI_LVC' , 'ROI_V1' , 'ROI_V2' , 'ROI_V3' , 'ROI_V4' , 'ROI_LOC' , 'ROI_FFA' , 'ROI_PPA' ]"
      ]
    },
    {
      "cell_type": "code",
      "metadata": {
        "id": "NJ6CtJRnGG8O",
        "colab_type": "code",
        "colab": {}
      },
      "source": [
        "subject = \"/Subject3.mat\"\n",
        "ROI = 'ROI_VC'\n",
        "\n",
        "handler = kamitani_data_handler(matlab_file=os.getcwd()+subject)\n",
        "Y_train, Y_test = handler.get_data(roi=ROI)\n",
        "IN_SHAPE= len(Y_train[0])\n",
        "\n",
        "handler=None\n",
        "\n"
      ],
      "execution_count": 104,
      "outputs": []
    },
    {
      "cell_type": "markdown",
      "metadata": {
        "id": "Gcw9kKfD9l8C",
        "colab_type": "text"
      },
      "source": [
        "##Functions to load images\n",
        "\n",
        "Following augumentations are applied to all the images.\n",
        "\n",
        "Resize : ( 128 * 128 )\n",
        "\n",
        "Normalize: -1 to 1"
      ]
    },
    {
      "cell_type": "code",
      "metadata": {
        "id": "FdxmF8V0H3pg",
        "colab_type": "code",
        "colab": {}
      },
      "source": [
        "IMG_SIZE = 128          # Dimension of resized image\n",
        "\n",
        "\n",
        "def load(image_file):\n",
        "  image = tf.io.read_file(image_file)\n",
        "  image = tf.image.decode_jpeg(image)\n",
        "\n",
        "  input_image = tf.cast(image, tf.float32)\n",
        "  \n",
        "  return input_image\n",
        "\n",
        "def resize(input_image, height, width):\n",
        "  input_image = tf.image.resize(input_image, [height, width],\n",
        "                                method=tf.image.ResizeMethod.NEAREST_NEIGHBOR)\n",
        "  \n",
        "\n",
        "  return input_image\n",
        "\n",
        "def normalize(input_image):\n",
        "  input_image = (input_image / 127.5) - 1\n",
        "  \n",
        "\n",
        "  return input_image\n",
        "\n",
        "\n",
        "def load_image_train(image_file):\n",
        "  input_image= load(image_file)\n",
        "  input_image= resize(input_image,IMG_SIZE, IMG_SIZE)\n",
        "  input_image= normalize(input_image)\n",
        "\n",
        "  return input_image"
      ],
      "execution_count": 5,
      "outputs": []
    },
    {
      "cell_type": "markdown",
      "metadata": {
        "id": "TS5N6mmWeOm4",
        "colab_type": "text"
      },
      "source": [
        "##Loading images"
      ]
    },
    {
      "cell_type": "code",
      "metadata": {
        "id": "CDrNgQYjGZDP",
        "colab_type": "code",
        "colab": {}
      },
      "source": [
        "trainimg = tf.data.Dataset.list_files(os.getcwd()+'/TRAINS/*.JPEG',shuffle=False)\n",
        "\n",
        "testimg = tf.data.Dataset.list_files(os.getcwd()+'/img_test/*.JPEG',shuffle=False)\n",
        "\n",
        "\n",
        "trainimg = trainimg.map(load_image_train,num_parallel_calls=tf.data.experimental.AUTOTUNE)\n",
        "\n",
        "testimg = testimg.map(load_image_train,num_parallel_calls=tf.data.experimental.AUTOTUNE)\n"
      ],
      "execution_count": 6,
      "outputs": []
    },
    {
      "cell_type": "markdown",
      "metadata": {
        "id": "zqwzWbOVeFfW",
        "colab_type": "text"
      },
      "source": [
        "##Loading image features\n",
        "\n",
        "We use features from the last Convolution layer of [VGG19](https://arxiv.org/abs/1409.1556) for training image generator as well as fMRI decoder.\n",
        "\n",
        "Code for extracting and saving features is provided in [vgg19features.py]()"
      ]
    },
    {
      "cell_type": "code",
      "metadata": {
        "id": "PnHomzz6PZik",
        "colab_type": "code",
        "colab": {}
      },
      "source": [
        "import h5py\n",
        "\n",
        "\n",
        "h5f = h5py.File('trainvgg_data.h5','r')\n",
        "IM = h5f['train'][:]\n",
        "h5f.close()\n",
        "h5f = h5py.File('testvgg_data.h5','r')\n",
        "IMT = h5f['test'][:]\n",
        "h5f.close()\n",
        "\n"
      ],
      "execution_count": 7,
      "outputs": []
    },
    {
      "cell_type": "markdown",
      "metadata": {
        "id": "ZuR_9zZ-9ttl",
        "colab_type": "text"
      },
      "source": [
        "##Defining Neural Network Decoder\n",
        "\n",
        "Dimension of input : fMRI_shape\n",
        "\n",
        "Number of hidden layers: 2\n",
        "\n",
        "Dimension of output layer : 8192\n",
        "\n",
        "We use GaussianDropout as first layer for improving generalization. GaussianDropout applies both, Dropout and Gaussian Noise on the fMRI inputs.\n",
        "\n",
        "We also use 'SELU' activation in the second hidden layers for adding non-linearity to the network.\n",
        "\n",
        "Nodes of hidden layers and rate of GaussianDropout can be changed in the arguments while instantiating the decoder. The default values which provide best results are set as :\n",
        "\n",
        "nodes_1 = 512\n",
        "\n",
        "nodes_2 = 256\n",
        "\n",
        "gd_rate = 0.125"
      ]
    },
    {
      "cell_type": "code",
      "metadata": {
        "id": "lD7ULjQzPTjl",
        "colab_type": "code",
        "colab": {}
      },
      "source": [
        "def dec(n_1=1024,n_2=512,r=0.12):\n",
        "  model = tf.keras.Sequential()\n",
        "  model.add(layers.InputLayer(input_shape=(IN_SHAPE)))\n",
        "\n",
        "  model.add(layers.GaussianDropout((r)))\n",
        "\n",
        "  model.add(layers.Dense(n_1,))\n",
        "\n",
        "  model.add(layers.Dense(n_2,'selu'))\n",
        "\n",
        "  model.add(layers.Dense(8192,))\n",
        "\n",
        "  return model\n"
      ],
      "execution_count": 111,
      "outputs": []
    },
    {
      "cell_type": "code",
      "metadata": {
        "id": "kolGFW4FSKcz",
        "colab_type": "code",
        "colab": {}
      },
      "source": [
        "Dec1=dec(256,256,0.15)\n",
        "# Dec2=dec(256,0.1)\n",
        "# Dec3=dec(512,)\n",
        "# Dec4=dec(512,0.1)\n",
        "Dec1.compile(loss='mse',optimizer='adam',metrics=['mse','mae'])\n",
        "# Dec2.compile(loss='mse',optimizer='adam',metrics=['mse','mae'])\n",
        "# Dec3.compile(loss='mse',optimizer='adam',metrics=['mse','mae'])\n",
        "# Dec4.compile(loss='mse',optimizer='adam',metrics=['mse','mae'])"
      ],
      "execution_count": 153,
      "outputs": []
    },
    {
      "cell_type": "code",
      "metadata": {
        "id": "7u04PSU9jOAP",
        "colab_type": "code",
        "colab": {
          "base_uri": "https://localhost:8080/",
          "height": 1000
        },
        "outputId": "5cdd2357-f7d0-4d7d-8f97-28a0063b23c6"
      },
      "source": [
        "# tf.random.set_seed(2)\n",
        "Dec1.fit(Y_train,IM,16,100,verbose=1)"
      ],
      "execution_count": 154,
      "outputs": [
        {
          "output_type": "stream",
          "text": [
            "Epoch 1/100\n",
            "75/75 [==============================] - 0s 3ms/step - loss: 0.3495 - mse: 0.3495 - mae: 0.3380\n",
            "Epoch 2/100\n",
            "75/75 [==============================] - 0s 3ms/step - loss: 0.1873 - mse: 0.1873 - mae: 0.2704\n",
            "Epoch 3/100\n",
            "75/75 [==============================] - 0s 3ms/step - loss: 0.1566 - mse: 0.1566 - mae: 0.2433\n",
            "Epoch 4/100\n",
            "75/75 [==============================] - 0s 3ms/step - loss: 0.1386 - mse: 0.1386 - mae: 0.2258\n",
            "Epoch 5/100\n",
            "75/75 [==============================] - 0s 3ms/step - loss: 0.1316 - mse: 0.1316 - mae: 0.2186\n",
            "Epoch 6/100\n",
            "75/75 [==============================] - 0s 3ms/step - loss: 0.1247 - mse: 0.1247 - mae: 0.2128\n",
            "Epoch 7/100\n",
            "75/75 [==============================] - 0s 3ms/step - loss: 0.1190 - mse: 0.1190 - mae: 0.2089\n",
            "Epoch 8/100\n",
            "75/75 [==============================] - 0s 3ms/step - loss: 0.1136 - mse: 0.1136 - mae: 0.2049\n",
            "Epoch 9/100\n",
            "75/75 [==============================] - 0s 3ms/step - loss: 0.1110 - mse: 0.1110 - mae: 0.2036\n",
            "Epoch 10/100\n",
            "75/75 [==============================] - 0s 3ms/step - loss: 0.1100 - mse: 0.1100 - mae: 0.2033\n",
            "Epoch 11/100\n",
            "75/75 [==============================] - 0s 3ms/step - loss: 0.1080 - mse: 0.1080 - mae: 0.2025\n",
            "Epoch 12/100\n",
            "75/75 [==============================] - 0s 3ms/step - loss: 0.1039 - mse: 0.1039 - mae: 0.2004\n",
            "Epoch 13/100\n",
            "75/75 [==============================] - 0s 3ms/step - loss: 0.1007 - mse: 0.1007 - mae: 0.1975\n",
            "Epoch 14/100\n",
            "75/75 [==============================] - 0s 3ms/step - loss: 0.1006 - mse: 0.1006 - mae: 0.1981\n",
            "Epoch 15/100\n",
            "75/75 [==============================] - 0s 3ms/step - loss: 0.0995 - mse: 0.0995 - mae: 0.1975\n",
            "Epoch 16/100\n",
            "75/75 [==============================] - 0s 3ms/step - loss: 0.0968 - mse: 0.0968 - mae: 0.1962\n",
            "Epoch 17/100\n",
            "75/75 [==============================] - 0s 3ms/step - loss: 0.0955 - mse: 0.0955 - mae: 0.1945\n",
            "Epoch 18/100\n",
            "75/75 [==============================] - 0s 3ms/step - loss: 0.0941 - mse: 0.0941 - mae: 0.1937\n",
            "Epoch 19/100\n",
            "75/75 [==============================] - 0s 3ms/step - loss: 0.0934 - mse: 0.0934 - mae: 0.1934\n",
            "Epoch 20/100\n",
            "75/75 [==============================] - 0s 3ms/step - loss: 0.0910 - mse: 0.0910 - mae: 0.1916\n",
            "Epoch 21/100\n",
            "75/75 [==============================] - 0s 3ms/step - loss: 0.0885 - mse: 0.0885 - mae: 0.1899\n",
            "Epoch 22/100\n",
            "75/75 [==============================] - 0s 3ms/step - loss: 0.0868 - mse: 0.0868 - mae: 0.1879\n",
            "Epoch 23/100\n",
            "75/75 [==============================] - 0s 3ms/step - loss: 0.0862 - mse: 0.0862 - mae: 0.1877\n",
            "Epoch 24/100\n",
            "75/75 [==============================] - 0s 3ms/step - loss: 0.0872 - mse: 0.0872 - mae: 0.1882\n",
            "Epoch 25/100\n",
            "75/75 [==============================] - 0s 3ms/step - loss: 0.0877 - mse: 0.0877 - mae: 0.1893\n",
            "Epoch 26/100\n",
            "75/75 [==============================] - 0s 3ms/step - loss: 0.0871 - mse: 0.0871 - mae: 0.1884\n",
            "Epoch 27/100\n",
            "75/75 [==============================] - 0s 3ms/step - loss: 0.0855 - mse: 0.0855 - mae: 0.1875\n",
            "Epoch 28/100\n",
            "75/75 [==============================] - 0s 3ms/step - loss: 0.0838 - mse: 0.0838 - mae: 0.1862\n",
            "Epoch 29/100\n",
            "75/75 [==============================] - 0s 3ms/step - loss: 0.0822 - mse: 0.0822 - mae: 0.1847\n",
            "Epoch 30/100\n",
            "75/75 [==============================] - 0s 3ms/step - loss: 0.0809 - mse: 0.0809 - mae: 0.1834\n",
            "Epoch 31/100\n",
            "75/75 [==============================] - 0s 3ms/step - loss: 0.0801 - mse: 0.0801 - mae: 0.1825\n",
            "Epoch 32/100\n",
            "75/75 [==============================] - 0s 3ms/step - loss: 0.0796 - mse: 0.0796 - mae: 0.1821\n",
            "Epoch 33/100\n",
            "75/75 [==============================] - 0s 3ms/step - loss: 0.0805 - mse: 0.0805 - mae: 0.1831\n",
            "Epoch 34/100\n",
            "75/75 [==============================] - 0s 3ms/step - loss: 0.0793 - mse: 0.0793 - mae: 0.1818\n",
            "Epoch 35/100\n",
            "75/75 [==============================] - 0s 3ms/step - loss: 0.0783 - mse: 0.0783 - mae: 0.1811\n",
            "Epoch 36/100\n",
            "75/75 [==============================] - 0s 3ms/step - loss: 0.0770 - mse: 0.0770 - mae: 0.1794\n",
            "Epoch 37/100\n",
            "75/75 [==============================] - 0s 3ms/step - loss: 0.0768 - mse: 0.0768 - mae: 0.1796\n",
            "Epoch 38/100\n",
            "75/75 [==============================] - 0s 3ms/step - loss: 0.0755 - mse: 0.0755 - mae: 0.1780\n",
            "Epoch 39/100\n",
            "75/75 [==============================] - 0s 3ms/step - loss: 0.0747 - mse: 0.0747 - mae: 0.1778\n",
            "Epoch 40/100\n",
            "75/75 [==============================] - 0s 3ms/step - loss: 0.0760 - mse: 0.0760 - mae: 0.1788\n",
            "Epoch 41/100\n",
            "75/75 [==============================] - 0s 3ms/step - loss: 0.0743 - mse: 0.0743 - mae: 0.1772\n",
            "Epoch 42/100\n",
            "75/75 [==============================] - 0s 3ms/step - loss: 0.0737 - mse: 0.0737 - mae: 0.1763\n",
            "Epoch 43/100\n",
            "75/75 [==============================] - 0s 3ms/step - loss: 0.0751 - mse: 0.0751 - mae: 0.1778\n",
            "Epoch 44/100\n",
            "75/75 [==============================] - 0s 3ms/step - loss: 0.0743 - mse: 0.0743 - mae: 0.1771\n",
            "Epoch 45/100\n",
            "75/75 [==============================] - 0s 3ms/step - loss: 0.0730 - mse: 0.0730 - mae: 0.1758\n",
            "Epoch 46/100\n",
            "75/75 [==============================] - 0s 3ms/step - loss: 0.0718 - mse: 0.0718 - mae: 0.1747\n",
            "Epoch 47/100\n",
            "75/75 [==============================] - 0s 3ms/step - loss: 0.0708 - mse: 0.0708 - mae: 0.1734\n",
            "Epoch 48/100\n",
            "75/75 [==============================] - 0s 3ms/step - loss: 0.0701 - mse: 0.0701 - mae: 0.1730\n",
            "Epoch 49/100\n",
            "75/75 [==============================] - 0s 3ms/step - loss: 0.0697 - mse: 0.0697 - mae: 0.1724\n",
            "Epoch 50/100\n",
            "75/75 [==============================] - 0s 3ms/step - loss: 0.0697 - mse: 0.0697 - mae: 0.1725\n",
            "Epoch 51/100\n",
            "75/75 [==============================] - 0s 3ms/step - loss: 0.0703 - mse: 0.0703 - mae: 0.1731\n",
            "Epoch 52/100\n",
            "75/75 [==============================] - 0s 3ms/step - loss: 0.0698 - mse: 0.0698 - mae: 0.1725\n",
            "Epoch 53/100\n",
            "75/75 [==============================] - 0s 3ms/step - loss: 0.0699 - mse: 0.0699 - mae: 0.1728\n",
            "Epoch 54/100\n",
            "75/75 [==============================] - 0s 2ms/step - loss: 0.0701 - mse: 0.0701 - mae: 0.1727\n",
            "Epoch 55/100\n",
            "75/75 [==============================] - 0s 3ms/step - loss: 0.0700 - mse: 0.0700 - mae: 0.1731\n",
            "Epoch 56/100\n",
            "75/75 [==============================] - 0s 3ms/step - loss: 0.0698 - mse: 0.0698 - mae: 0.1728\n",
            "Epoch 57/100\n",
            "75/75 [==============================] - 0s 3ms/step - loss: 0.0694 - mse: 0.0694 - mae: 0.1721\n",
            "Epoch 58/100\n",
            "75/75 [==============================] - 0s 3ms/step - loss: 0.0685 - mse: 0.0685 - mae: 0.1715\n",
            "Epoch 59/100\n",
            "75/75 [==============================] - 0s 2ms/step - loss: 0.0684 - mse: 0.0684 - mae: 0.1711\n",
            "Epoch 60/100\n",
            "75/75 [==============================] - 0s 3ms/step - loss: 0.0703 - mse: 0.0703 - mae: 0.1729\n",
            "Epoch 61/100\n",
            "75/75 [==============================] - 0s 3ms/step - loss: 0.0689 - mse: 0.0689 - mae: 0.1719\n",
            "Epoch 62/100\n",
            "75/75 [==============================] - 0s 3ms/step - loss: 0.0677 - mse: 0.0677 - mae: 0.1708\n",
            "Epoch 63/100\n",
            "75/75 [==============================] - 0s 2ms/step - loss: 0.0673 - mse: 0.0673 - mae: 0.1700\n",
            "Epoch 64/100\n",
            "75/75 [==============================] - 0s 3ms/step - loss: 0.0670 - mse: 0.0670 - mae: 0.1697\n",
            "Epoch 65/100\n",
            "75/75 [==============================] - 0s 3ms/step - loss: 0.0669 - mse: 0.0669 - mae: 0.1697\n",
            "Epoch 66/100\n",
            "75/75 [==============================] - 0s 2ms/step - loss: 0.0665 - mse: 0.0665 - mae: 0.1696\n",
            "Epoch 67/100\n",
            "75/75 [==============================] - 0s 3ms/step - loss: 0.0673 - mse: 0.0673 - mae: 0.1701\n",
            "Epoch 68/100\n",
            "75/75 [==============================] - 0s 2ms/step - loss: 0.0683 - mse: 0.0683 - mae: 0.1714\n",
            "Epoch 69/100\n",
            "75/75 [==============================] - 0s 3ms/step - loss: 0.0682 - mse: 0.0682 - mae: 0.1714\n",
            "Epoch 70/100\n",
            "75/75 [==============================] - 0s 3ms/step - loss: 0.0681 - mse: 0.0681 - mae: 0.1713\n",
            "Epoch 71/100\n",
            "75/75 [==============================] - 0s 3ms/step - loss: 0.0666 - mse: 0.0666 - mae: 0.1696\n",
            "Epoch 72/100\n",
            "75/75 [==============================] - 0s 2ms/step - loss: 0.0658 - mse: 0.0658 - mae: 0.1685\n",
            "Epoch 73/100\n",
            "75/75 [==============================] - 0s 3ms/step - loss: 0.0653 - mse: 0.0653 - mae: 0.1681\n",
            "Epoch 74/100\n",
            "75/75 [==============================] - 0s 2ms/step - loss: 0.0654 - mse: 0.0654 - mae: 0.1686\n",
            "Epoch 75/100\n",
            "75/75 [==============================] - 0s 3ms/step - loss: 0.0659 - mse: 0.0659 - mae: 0.1690\n",
            "Epoch 76/100\n",
            "75/75 [==============================] - 0s 3ms/step - loss: 0.0659 - mse: 0.0659 - mae: 0.1690\n",
            "Epoch 77/100\n",
            "75/75 [==============================] - 0s 3ms/step - loss: 0.0654 - mse: 0.0654 - mae: 0.1685\n",
            "Epoch 78/100\n",
            "75/75 [==============================] - 0s 2ms/step - loss: 0.0664 - mse: 0.0664 - mae: 0.1693\n",
            "Epoch 79/100\n",
            "75/75 [==============================] - 0s 3ms/step - loss: 0.0657 - mse: 0.0657 - mae: 0.1691\n",
            "Epoch 80/100\n",
            "75/75 [==============================] - 0s 3ms/step - loss: 0.0651 - mse: 0.0651 - mae: 0.1683\n",
            "Epoch 81/100\n",
            "75/75 [==============================] - 0s 3ms/step - loss: 0.0656 - mse: 0.0656 - mae: 0.1687\n",
            "Epoch 82/100\n",
            "75/75 [==============================] - 0s 3ms/step - loss: 0.0653 - mse: 0.0653 - mae: 0.1685\n",
            "Epoch 83/100\n",
            "75/75 [==============================] - 0s 3ms/step - loss: 0.0650 - mse: 0.0650 - mae: 0.1683\n",
            "Epoch 84/100\n",
            "75/75 [==============================] - 0s 3ms/step - loss: 0.0653 - mse: 0.0653 - mae: 0.1687\n",
            "Epoch 85/100\n",
            "75/75 [==============================] - 0s 3ms/step - loss: 0.0647 - mse: 0.0647 - mae: 0.1677\n",
            "Epoch 86/100\n",
            "75/75 [==============================] - 0s 3ms/step - loss: 0.0647 - mse: 0.0647 - mae: 0.1679\n",
            "Epoch 87/100\n",
            "75/75 [==============================] - 0s 3ms/step - loss: 0.0647 - mse: 0.0647 - mae: 0.1680\n",
            "Epoch 88/100\n",
            "75/75 [==============================] - 0s 2ms/step - loss: 0.0652 - mse: 0.0652 - mae: 0.1685\n",
            "Epoch 89/100\n",
            "75/75 [==============================] - 0s 2ms/step - loss: 0.0652 - mse: 0.0652 - mae: 0.1688\n",
            "Epoch 90/100\n",
            "75/75 [==============================] - 0s 3ms/step - loss: 0.0651 - mse: 0.0651 - mae: 0.1683\n",
            "Epoch 91/100\n",
            "75/75 [==============================] - 0s 3ms/step - loss: 0.0650 - mse: 0.0650 - mae: 0.1683\n",
            "Epoch 92/100\n",
            "75/75 [==============================] - 0s 3ms/step - loss: 0.0648 - mse: 0.0648 - mae: 0.1684\n",
            "Epoch 93/100\n",
            "75/75 [==============================] - 0s 2ms/step - loss: 0.0651 - mse: 0.0651 - mae: 0.1685\n",
            "Epoch 94/100\n",
            "75/75 [==============================] - 0s 2ms/step - loss: 0.1352 - mse: 0.1352 - mae: 0.2133\n",
            "Epoch 95/100\n",
            "75/75 [==============================] - 0s 3ms/step - loss: 0.1303 - mse: 0.1303 - mae: 0.2417\n",
            "Epoch 96/100\n",
            "75/75 [==============================] - 0s 3ms/step - loss: 0.0782 - mse: 0.0782 - mae: 0.1824\n",
            "Epoch 97/100\n",
            "75/75 [==============================] - 0s 3ms/step - loss: 0.0680 - mse: 0.0680 - mae: 0.1695\n",
            "Epoch 98/100\n",
            "75/75 [==============================] - 0s 2ms/step - loss: 0.0651 - mse: 0.0651 - mae: 0.1661\n",
            "Epoch 99/100\n",
            "75/75 [==============================] - 0s 3ms/step - loss: 0.0633 - mse: 0.0633 - mae: 0.1644\n",
            "Epoch 100/100\n",
            "75/75 [==============================] - 0s 2ms/step - loss: 0.0620 - mse: 0.0620 - mae: 0.1630\n"
          ],
          "name": "stdout"
        },
        {
          "output_type": "execute_result",
          "data": {
            "text/plain": [
              "<tensorflow.python.keras.callbacks.History at 0x7fe8631eeac8>"
            ]
          },
          "metadata": {
            "tags": []
          },
          "execution_count": 154
        }
      ]
    },
    {
      "cell_type": "markdown",
      "metadata": {
        "id": "wOHbqS3_eYBS",
        "colab_type": "text"
      },
      "source": [
        "##Forming input pipeline for image Generator network "
      ]
    },
    {
      "cell_type": "code",
      "metadata": {
        "id": "aJ2R6giHqTEp",
        "colab_type": "code",
        "colab": {
          "base_uri": "https://localhost:8080/",
          "height": 54
        },
        "outputId": "ea6ff2a3-67c7-4ab0-aaf0-6a81417d9b19"
      },
      "source": [
        "\n",
        "test_feat = Dec1.predict(Y_test)\n",
        "\n",
        "test_feat= tf.data.Dataset.from_tensor_slices(test_feat)\n",
        "\n",
        "test_dataset =tf.data.Dataset.zip((test_feat,testimg))\n",
        "\n",
        "test_dataset = test_dataset.batch(1)\n",
        "\n",
        "\n"
      ],
      "execution_count": 155,
      "outputs": [
        {
          "output_type": "stream",
          "text": [
            "WARNING:tensorflow:5 out of the last 19 calls to <function Model.make_predict_function.<locals>.predict_function at 0x7fe863280f28> triggered tf.function retracing. Tracing is expensive and the excessive number of tracings could be due to (1) creating @tf.function repeatedly in a loop, (2) passing tensors with different shapes, (3) passing Python objects instead of tensors. For (1), please define your @tf.function outside of the loop. For (2), @tf.function has experimental_relax_shapes=True option that relaxes argument shapes that can avoid unnecessary retracing. For (3), please refer to https://www.tensorflow.org/tutorials/customization/performance#python_or_tensor_args and https://www.tensorflow.org/api_docs/python/tf/function for  more details.\n"
          ],
          "name": "stdout"
        }
      ]
    },
    {
      "cell_type": "code",
      "metadata": {
        "id": "CoTZSMDTqlnx",
        "colab_type": "code",
        "colab": {}
      },
      "source": [
        "i=1\n",
        "for (example_input,target) in test_dataset.take(50):\n",
        "    \n",
        "        generate_images(generator, example_input, target,i)\n",
        "        i+=1"
      ],
      "execution_count": null,
      "outputs": []
    },
    {
      "cell_type": "code",
      "metadata": {
        "id": "XijXIcqsSLrc",
        "colab_type": "code",
        "colab": {}
      },
      "source": [
        "from sklearn.metrics import mean_squared_error,mean_absolute_error,r2_score\n",
        "ypred1 = Dec1.predict(Y1_test)\n",
        "\n",
        "# ypred2 = Dec2.predict(Y1_test)\n",
        "\n",
        "# ypred3 = Dec3.predict(Y1_test)\n",
        "\n",
        "# ypred4 = Dec4.predict(Y1_test)\n",
        "\n",
        "# print(mean_squared_error(IMT,ypred))\n",
        "# print(mean_absolute_error(IMT,ypred))\n",
        "# print(r2_score(IMT,ypred))\n"
      ],
      "execution_count": null,
      "outputs": []
    },
    {
      "cell_type": "markdown",
      "metadata": {
        "id": "2f43Jbsceocp",
        "colab_type": "text"
      },
      "source": [
        "##Loading generator model and defining image generation function"
      ]
    },
    {
      "cell_type": "code",
      "metadata": {
        "id": "7L1BI8c-U7xJ",
        "colab_type": "code",
        "colab": {
          "base_uri": "https://localhost:8080/",
          "height": 34
        },
        "outputId": "b9b46ae9-8e2b-432c-b710-b1f1cc13972c"
      },
      "source": [
        "from PIL import Image\n",
        "generator = tf.keras.models.load_model('GENERATOR8192')\n",
        "generator.trainable =False\n",
        "\n",
        "def generate_images(model, test_input, tar,name):\n",
        "  prediction = model(test_input, training=False)\n",
        "  plt.figure(figsize=(2,2))\n",
        "\n",
        "  display_list = [prediction[0]]\n",
        "  # display_list = [ tar[0], prediction[0]]\n",
        "  # title = ['Ground Truth', 'Predicted Image']\n",
        "  plt.imshow(display_list[0] * 0.5 + 0.5)\n",
        "  # for i in range(1):\n",
        "  #   plt.subplot(1, 2, i+1)\n",
        "  #   plt.title(title[i])\n",
        "  #   # getting the pixel values between [0, 1] to plot it.\n",
        "  #   plt.imshow(display_list[i] * 0.5 + 0.5)\n",
        "  plt.axis('off')\n",
        "  # plt.show()\n",
        "  plt.savefig(os.getcwd()+'/gen_direct/'+str(name)+'.png')"
      ],
      "execution_count": 114,
      "outputs": [
        {
          "output_type": "stream",
          "text": [
            "WARNING:tensorflow:No training configuration found in save file, so the model was *not* compiled. Compile it manually.\n"
          ],
          "name": "stdout"
        }
      ]
    },
    {
      "cell_type": "markdown",
      "metadata": {
        "id": "7TKpD9KEexOs",
        "colab_type": "text"
      },
      "source": [
        "##generating images from decoder predictions"
      ]
    },
    {
      "cell_type": "code",
      "metadata": {
        "id": "8nqAHp6BqbsI",
        "colab_type": "code",
        "colab": {}
      },
      "source": [
        "# generator = tf.keras.models.load_model('GENERATOR')\n",
        "# generator.trainable =False\n",
        "# from PIL import Image\n",
        "\n",
        "def generate_images(num,model, test_input,avg, tar):\n",
        "  prediction = model(test_input, training=False)\n",
        "  plt.figure(figsize=(5,5))\n",
        "  pred = model(avg, training=False)\n",
        "  # tf.keras.preprocessing.image.save_img( os.getcwd()+'/gen_direct/'+str(num)+'.png', prediction, data_format=None, file_format=None, scale=True)\n",
        "  display_list = [ tar[0], prediction[0],pred[0]]\n",
        "  title = ['Ground Truth', 'Predicted Image','avg']\n",
        "\n",
        "  for i in range(3):\n",
        "    plt.subplot(1, 3, i+1)\n",
        "    plt.title(title[i])\n",
        "    # getting the pixel values between [0, 1] to plot it.\n",
        "    plt.imshow(display_list[i] * 0.5 + 0.5)\n",
        "    plt.axis('off')\n",
        "  # for i in range(1):\n",
        "  #   plt.subplot(1, 1, i+1)\n",
        "  #   # plt.title(title[i_1])\n",
        "  #   # getting the pixel values between [0, 1] to plot it.\n",
        "  #   plt.imshow(display_list[i+2] * 0.5 + 0.5)\n",
        "  #   plt.axis('off')\n",
        "  plt.show()\n",
        "  # plt.savefig(os.getcwd()+'/gen_direct/'+str(num)+'.png')"
      ],
      "execution_count": null,
      "outputs": []
    }
  ]
}